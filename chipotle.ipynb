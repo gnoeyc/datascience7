{
 "cells": [
  {
   "cell_type": "markdown",
   "metadata": {},
   "source": [
    "<img src=\"http://imgur.com/1ZcRyrc.png\" style=\"float: left; margin: 20px; height: 55px\">\n",
    "\n",
    "# Project 2: Analyzing Chipotle Data\n",
    "\n",
    "_Author: Joseph Nelson (DC)_\n",
    "\n",
    "---"
   ]
  },
  {
   "cell_type": "markdown",
   "metadata": {},
   "source": [
    "For Project 2, you will complete a series of exercises exploring [order data from Chipotle](https://github.com/TheUpshot/chipotle), compliments of _The New York Times'_ \"The Upshot.\"\n",
    "\n",
    "For these exercises, you will conduct basic exploratory data analysis (Pandas not required) to understand the essentials of Chipotle's order data: how many orders are being made, the average price per order, how many different ingredients are used, etc. These allow you to practice business analysis skills while also becoming comfortable with Python."
   ]
  },
  {
   "cell_type": "markdown",
   "metadata": {},
   "source": [
    "---\n",
    "\n",
    "## Basic Level"
   ]
  },
  {
   "cell_type": "markdown",
   "metadata": {},
   "source": [
    "### Part 1: Read in the file with `csv.reader()` and store it in an object called `file_nested_list`.\n",
    "\n",
    "Hint: This is a TSV (tab-separated value) file, and `csv.reader()` needs to be told [how to handle it](https://docs.python.org/2/library/csv.html)."
   ]
  },
  {
   "cell_type": "code",
   "execution_count": 27,
   "metadata": {},
   "outputs": [],
   "source": [
    "import csv\n",
    "from collections import namedtuple   # Convenient to store the data rows\n",
    "\n",
    "DATA_FILE = './data/chipotle.tsv'"
   ]
  },
  {
   "cell_type": "code",
   "execution_count": 40,
   "metadata": {},
   "outputs": [],
   "source": [
    "maindata = []\n",
    "with open('./data/chipotle.tsv') as tsvfile:\n",
    "    file_nested_list = csv.reader(tsvfile, delimiter=\"\\t\")\n",
    "    for row in file_nested_list:\n",
    "        maindata.append(row)\n"
   ]
  },
  {
   "cell_type": "markdown",
   "metadata": {},
   "source": [
    "### Part 2: Separate `file_nested_list` into the `header` and the `data`.\n"
   ]
  },
  {
   "cell_type": "code",
   "execution_count": 43,
   "metadata": {},
   "outputs": [
    {
     "name": "stdout",
     "output_type": "stream",
     "text": [
      "['order_id', 'quantity', 'item_name', 'choice_description', 'item_price']\n"
     ]
    }
   ],
   "source": [
    "header = maindata[0]\n",
    "print(header)"
   ]
  },
  {
   "cell_type": "code",
   "execution_count": 52,
   "metadata": {},
   "outputs": [
    {
     "name": "stdout",
     "output_type": "stream",
     "text": [
      "['1', '1', 'Chips and Fresh Tomato Salsa', 'NULL', '$2.39 ']\n",
      "<class 'list'>\n"
     ]
    }
   ],
   "source": [
    "data = maindata[1:]\n",
    "\n",
    "print(data[0])\n",
    "\n",
    "print(type(data))"
   ]
  },
  {
   "cell_type": "markdown",
   "metadata": {},
   "source": [
    "---\n",
    "\n",
    "## Intermediate Level"
   ]
  },
  {
   "cell_type": "markdown",
   "metadata": {},
   "source": [
    "### Part 3: Calculate the average price of an order.\n",
    "\n",
    "Hint: Examine the data to see if the `quantity` column is relevant to this calculation.\n",
    "\n",
    "Hint: Think carefully about the simplest way to do this!"
   ]
  },
  {
   "cell_type": "code",
   "execution_count": 111,
   "metadata": {},
   "outputs": [
    {
     "name": "stdout",
     "output_type": "stream",
     "text": [
      "['1834', '1', 'Chicken Salad Bowl', '[Fresh Tomato Salsa, [Fajita Vegetables, Pinto Beans, Lettuce]]', '$8.75 ']\n",
      "1834\n"
     ]
    },
    {
     "data": {
      "text/plain": [
       "int"
      ]
     },
     "execution_count": 111,
     "metadata": {},
     "output_type": "execute_result"
    }
   ],
   "source": [
    "last_order = data[-1]\n",
    "\n",
    "print(last_order)\n",
    "\n",
    "order_count = int(last_order[0])\n",
    "\n",
    "print(order_count)\n",
    "\n",
    "type(order_count)\n"
   ]
  },
  {
   "cell_type": "code",
   "execution_count": 112,
   "metadata": {},
   "outputs": [],
   "source": [
    "total = []\n",
    "\n",
    "for row in data:\n",
    "    total.append(row[-1])\n",
    "\n",
    "totalnum = []\n",
    "    \n",
    "for x in total:\n",
    "    totalnum.append(float(x[1:]))\n",
    "        "
   ]
  },
  {
   "cell_type": "code",
   "execution_count": 113,
   "metadata": {},
   "outputs": [
    {
     "name": "stdout",
     "output_type": "stream",
     "text": [
      "18.811428571428824\n"
     ]
    }
   ],
   "source": [
    "average = sum(totalnum) / order_count\n",
    "\n",
    "print(average)"
   ]
  },
  {
   "cell_type": "code",
   "execution_count": null,
   "metadata": {
    "collapsed": true
   },
   "outputs": [],
   "source": []
  },
  {
   "cell_type": "markdown",
   "metadata": {},
   "source": [
    "### Part 4: Create a list (or set) named `unique_sodas` containing all of unique sodas and soft drinks that Chipotle sells.\n",
    "\n",
    "Note: Just look for `'Canned Soda'` and `'Canned Soft Drink'`, and ignore other drinks like `'Izze'`."
   ]
  },
  {
   "cell_type": "code",
   "execution_count": 114,
   "metadata": {},
   "outputs": [
    {
     "name": "stdout",
     "output_type": "stream",
     "text": [
      "[Mountain Dew]\n"
     ]
    }
   ],
   "source": [
    "drink_list = []\n",
    "\n",
    "for row in data:\n",
    "    if row[2] == 'Canned Soda':\n",
    "        drink_list.append(row[3])\n",
    "    elif row[2] == 'Canned Soft Drink':\n",
    "        drink_list.append(row[3])\n"
   ]
  },
  {
   "cell_type": "code",
   "execution_count": 116,
   "metadata": {},
   "outputs": [
    {
     "name": "stdout",
     "output_type": "stream",
     "text": [
      "{'[Sprite]', '[Coca Cola]', '[Diet Dr. Pepper]', '[Coke]', '[Mountain Dew]', '[Nestea]', '[Diet Coke]', '[Lemonade]', '[Dr. Pepper]'}\n"
     ]
    }
   ],
   "source": [
    "unique_drinks = set(drink_list)\n",
    "\n",
    "print(unique_drinks)"
   ]
  },
  {
   "cell_type": "code",
   "execution_count": null,
   "metadata": {
    "collapsed": true
   },
   "outputs": [],
   "source": []
  },
  {
   "cell_type": "code",
   "execution_count": null,
   "metadata": {
    "collapsed": true
   },
   "outputs": [],
   "source": []
  },
  {
   "cell_type": "markdown",
   "metadata": {},
   "source": [
    "---\n",
    "\n",
    "## Advanced Level\n"
   ]
  },
  {
   "cell_type": "markdown",
   "metadata": {},
   "source": [
    "### Part 5: Calculate the average number of toppings per burrito.\n",
    "\n",
    "Note: Let's ignore the `quantity` column to simplify this task.\n",
    "\n",
    "Hint: Think carefully about the easiest way to count the number of toppings!\n"
   ]
  },
  {
   "cell_type": "code",
   "execution_count": 125,
   "metadata": {},
   "outputs": [
    {
     "name": "stdout",
     "output_type": "stream",
     "text": [
      "1172\n",
      "[Fresh Tomato Salsa, [Rice, Black Beans, Pinto Beans, Cheese, Sour Cream, Lettuce]]\n",
      "<class 'str'>\n"
     ]
    }
   ],
   "source": [
    "#find buritto orders and count\n",
    "\n",
    "num_burrito = 0\n",
    "burit = []\n",
    "\n",
    "for row in data:\n",
    "    if 'Burrito' in row[2]:\n",
    "        num_burrito +=1\n",
    "        burit.append(row[3])\n",
    "        \n",
    "print(num_burrito)\n",
    "print(burit[1])\n",
    "print(type(burit[1]))"
   ]
  },
  {
   "cell_type": "code",
   "execution_count": 134,
   "metadata": {},
   "outputs": [
    {
     "name": "stdout",
     "output_type": "stream",
     "text": [
      "['[Fresh Tomato Salsa', ' [Rice', ' Black Beans', ' Pinto Beans', ' Cheese', ' Sour Cream', ' Lettuce]]']\n"
     ]
    }
   ],
   "source": [
    "#Make list of salsa and toppings\n",
    "\n",
    "all_toppings = []\n",
    "\n",
    "for row in burit:\n",
    "    all_toppings.append(row.split(','))\n",
    "\n",
    "print(all_toppings[1])\n",
    "\n",
    "\n",
    "\n",
    "    "
   ]
  },
  {
   "cell_type": "code",
   "execution_count": 139,
   "metadata": {},
   "outputs": [
    {
     "name": "stdout",
     "output_type": "stream",
     "text": [
      "[' [Rice', ' Black Beans', ' Pinto Beans', ' Cheese', ' Sour Cream', ' Lettuce]]']\n",
      "5151\n"
     ]
    }
   ],
   "source": [
    "#remove salsa, assuming all burritos has salsa\n",
    "\n",
    "just_toppings = []\n",
    "\n",
    "for row in all_toppings:\n",
    "    just_toppings.append(row[1:])\n",
    "\n",
    "#Find total number toppings\n",
    "\n",
    "total_top = 0\n",
    "\n",
    "for row in just_toppings:\n",
    "    total_top = total_top + int(len(row))\n",
    "\n",
    "print(total_top)\n",
    "    "
   ]
  },
  {
   "cell_type": "code",
   "execution_count": 140,
   "metadata": {},
   "outputs": [
    {
     "name": "stdout",
     "output_type": "stream",
     "text": [
      "4.395051194539249\n"
     ]
    }
   ],
   "source": [
    "#Average topping per burrito\n",
    "\n",
    "print(total_top/num_burrito)"
   ]
  },
  {
   "cell_type": "markdown",
   "metadata": {},
   "source": [
    "### Part 6: Create a dictionary. Let the keys represent chip orders and the values represent the total number of orders.\n",
    "\n",
    "Expected output: `{'Chips and Roasted Chili-Corn Salsa': 18, ... }`\n",
    "\n",
    "Note: Please take the `quantity` column into account!\n",
    "\n",
    "Optional: Learn how to use `.defaultdict()` to simplify your code."
   ]
  },
  {
   "cell_type": "code",
   "execution_count": 143,
   "metadata": {},
   "outputs": [
    {
     "name": "stdout",
     "output_type": "stream",
     "text": [
      "1084\n",
      "['1', '1', 'Chips and Tomatillo-Green Chili Salsa', 'NULL', '$2.39 ']\n",
      "<class 'list'>\n"
     ]
    }
   ],
   "source": [
    "num_chips = 0\n",
    "chippo = []\n",
    "\n",
    "for row in data:\n",
    "    if 'Chips' in row[2]:\n",
    "        num_chips +=1\n",
    "        chippo.append(row)\n",
    "        \n",
    "print(num_chips)\n",
    "print(chippo[1])\n",
    "print(type(chippo[1]))"
   ]
  },
  {
   "cell_type": "code",
   "execution_count": 160,
   "metadata": {},
   "outputs": [
    {
     "name": "stdout",
     "output_type": "stream",
     "text": [
      "{'Chips and Roasted Chili-Corn Salsa': 0, 'Chips and Mild Fresh Tomato Salsa': 0, 'Chips and Tomatillo Green Chili Salsa': 0, 'Chips and Tomatillo Red Chili Salsa': 0, 'Chips': 0, 'Chips and Tomatillo-Red Chili Salsa': 0, 'Chips and Roasted Chili Corn Salsa': 0, 'Side of Chips': 0, 'Chips and Tomatillo-Green Chili Salsa': 0, 'Chips and Guacamole': 0, 'Chips and Fresh Tomato Salsa': 0}\n",
      "<class 'dict'>\n"
     ]
    }
   ],
   "source": [
    "type_chips = []\n",
    "\n",
    "for row in chippo:\n",
    "    type_chips.append(row[2])\n",
    "    \n",
    "unique_chips = set(type_chips)\n",
    "\n",
    "\n",
    "#create key of dictionary from set\n",
    "chipdict = dict.fromkeys(unique_chips, 0)\n",
    "\n",
    "print(chipdict)\n",
    "print(type(chipdict))"
   ]
  },
  {
   "cell_type": "code",
   "execution_count": 165,
   "metadata": {},
   "outputs": [
    {
     "name": "stdout",
     "output_type": "stream",
     "text": [
      "{'Chips and Roasted Chili-Corn Salsa': 18, 'Chips and Mild Fresh Tomato Salsa': 1, 'Chips and Tomatillo Green Chili Salsa': 45, 'Chips and Tomatillo Red Chili Salsa': 50, 'Chips': 230, 'Chips and Tomatillo-Red Chili Salsa': 25, 'Chips and Roasted Chili Corn Salsa': 23, 'Side of Chips': 110, 'Chips and Tomatillo-Green Chili Salsa': 33, 'Chips and Guacamole': 506, 'Chips and Fresh Tomato Salsa': 130}\n"
     ]
    }
   ],
   "source": [
    "for k in chipdict:\n",
    "    for row in chippo:\n",
    "        if k == row[2]:\n",
    "            chipdict[k] += 1 * int(row[1])\n",
    "\n",
    "print(chipdict)"
   ]
  },
  {
   "cell_type": "code",
   "execution_count": null,
   "metadata": {
    "collapsed": true
   },
   "outputs": [],
   "source": []
  },
  {
   "cell_type": "code",
   "execution_count": null,
   "metadata": {
    "collapsed": true
   },
   "outputs": [],
   "source": []
  },
  {
   "cell_type": "markdown",
   "metadata": {},
   "source": [
    "---\n",
    "\n",
    "## Bonus: Craft a problem statement about this data that interests you, and then answer it!\n"
   ]
  },
  {
   "cell_type": "code",
   "execution_count": null,
   "metadata": {
    "collapsed": true
   },
   "outputs": [],
   "source": []
  },
  {
   "cell_type": "code",
   "execution_count": null,
   "metadata": {
    "collapsed": true
   },
   "outputs": [],
   "source": []
  },
  {
   "cell_type": "code",
   "execution_count": null,
   "metadata": {
    "collapsed": true
   },
   "outputs": [],
   "source": []
  },
  {
   "cell_type": "code",
   "execution_count": null,
   "metadata": {
    "collapsed": true
   },
   "outputs": [],
   "source": []
  }
 ],
 "metadata": {
  "anaconda-cloud": {},
  "kernelspec": {
   "display_name": "Python 3",
   "language": "python",
   "name": "python3"
  },
  "language_info": {
   "codemirror_mode": {
    "name": "ipython",
    "version": 3
   },
   "file_extension": ".py",
   "mimetype": "text/x-python",
   "name": "python",
   "nbconvert_exporter": "python",
   "pygments_lexer": "ipython3",
   "version": "3.6.4"
  }
 },
 "nbformat": 4,
 "nbformat_minor": 2
}
